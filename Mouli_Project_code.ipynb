{
  "nbformat": 4,
  "nbformat_minor": 0,
  "metadata": {
    "colab": {
      "provenance": []
    },
    "kernelspec": {
      "name": "python3",
      "display_name": "Python 3"
    },
    "language_info": {
      "name": "python"
    }
  },
  "cells": [
    {
      "cell_type": "code",
      "execution_count": null,
      "metadata": {
        "id": "9PGzm-Vi9wy4"
      },
      "outputs": [],
      "source": [
        "import numpy as np\n",
        "from pymoo.algorithms.moo.nsga2 import NSGA2\n",
        "from pymoo.optimize import minimize\n",
        "\n",
        "# Define the Travelling Thief Problem class\n",
        "class TTPProblem:\n",
        "    def __init__(self, cities, items, max_weight):\n",
        "        self.cities = cities\n",
        "        self.items = items\n",
        "        self.max_weight = max_weight\n",
        "\n",
        "    def evaluate(self, solution):\n",
        "        # Custom evaluation function integrating TSP and Knapsack objectives\n",
        "        return travel_cost, item_value\n",
        "\n",
        "# Instantiate and run the algorithm\n",
        "problem = TTPProblem(cities=20, items=30, max_weight=50)\n",
        "algorithm = NSGA2()\n",
        "result = minimize(problem, algorithm, termination=('n_gen', 100))"
      ]
    },
    {
      "cell_type": "code",
      "source": [
        "# Define the problem class for TTP\n",
        "class TTPProblem:\n",
        "    def __init__(self, cities, items, max_weight):\n",
        "        \"\"\"\n",
        "        Initialize the Travelling Thief Problem parameters.\n",
        "        :param cities: Number of cities to visit\n",
        "        :param items: Number of items to pick\n",
        "        :param max_weight: Maximum weight capacity of the knapsack\n",
        "        \"\"\"\n",
        "        self.cities = cities\n",
        "        self.items = items\n",
        "        self.max_weight = max_weight\n",
        "\n",
        "    def evaluate(self, solution):\n",
        "        \"\"\"\n",
        "        Evaluate the solution by calculating travel cost and item value.\n",
        "        :param solution: Solution representing the route and picked items\n",
        "        :return: travel_cost, item_value\n",
        "        \"\"\"\n",
        "        travel_cost = calculate_travel_cost(solution)\n",
        "        item_value = calculate_item_value(solution)\n",
        "        return travel_cost, item_value"
      ],
      "metadata": {
        "id": "7JyV9l_S-U_b"
      },
      "execution_count": null,
      "outputs": []
    }
  ]
}